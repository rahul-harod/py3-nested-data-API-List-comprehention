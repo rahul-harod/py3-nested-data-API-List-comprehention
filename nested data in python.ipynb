{
 "cells": [
  {
   "cell_type": "markdown",
   "metadata": {},
   "source": [
    "# nested data practice"
   ]
  },
  {
   "cell_type": "markdown",
   "metadata": {},
   "source": [
    "placing functions to list and acccesing in loops"
   ]
  },
  {
   "cell_type": "code",
   "execution_count": 1,
   "metadata": {},
   "outputs": [
    {
     "name": "stdout",
     "output_type": "stream",
     "text": [
      "****names****\n",
      "<function square at 0x00000193F11491F8>\n",
      "<built-in function abs>\n",
      "****call each of them****\n",
      "4\n",
      "2\n",
      "****just the first one in the list****\n",
      "<function square at 0x00000193F11491F8>\n",
      "9\n"
     ]
    }
   ],
   "source": [
    "def square(x):\n",
    "    return x*x\n",
    "\n",
    "L = [square, abs]\n",
    "\n",
    "print(\"****names****\")\n",
    "for f in L:\n",
    "    print(f)\n",
    "\n",
    "print(\"****call each of them****\")\n",
    "for f in L:\n",
    "    print(f(-2))\n",
    "\n",
    "print(\"****just the first one in the list****\")\n",
    "print(L[0])\n",
    "print(L[0](3))\n"
   ]
  },
  {
   "cell_type": "code",
   "execution_count": 3,
   "metadata": {},
   "outputs": [
    {
     "name": "stdout",
     "output_type": "stream",
     "text": [
      "horse\n"
     ]
    }
   ],
   "source": [
    "### accesing horse\n",
    "animals = [['cat', 'dog', 'mouse'], ['horse', 'cow', 'goat'], ['cheetah', 'giraffe', 'rhino']]\n",
    "\n",
    "idx1=animals[1][0]\n",
    "print(idx1)"
   ]
  },
  {
   "cell_type": "code",
   "execution_count": 5,
   "metadata": {},
   "outputs": [
    {
     "name": "stdout",
     "output_type": "stream",
     "text": [
      "willow\n"
     ]
    }
   ],
   "source": [
    "data = ['bagel', 'cream cheese', 'breakfast', 'grits', 'eggs', 'bacon', [34, 9, 73, []], [['willow', 'birch', 'elm'], 'apple', 'peach', 'cherry']]\n",
    "\n",
    "plant=data[7][0][0]\n",
    "print(plant)"
   ]
  },
  {
   "cell_type": "code",
   "execution_count": 1,
   "metadata": {},
   "outputs": [
    {
     "name": "stdout",
     "output_type": "stream",
     "text": [
      "{'eye': 'blue', 'hair': 'brown'}\n"
     ]
    }
   ],
   "source": [
    "\n",
    "info = {'personal_data':\n",
    "         {'name': 'Lauren',\n",
    "          'age': 20,\n",
    "          'major': 'Information Science',\n",
    "          'physical_features':\n",
    "             {'color': {'eye': 'blue',\n",
    "                        'hair': 'brown'},\n",
    "              'height': \"5'8\"}\n",
    "         },\n",
    "       'other':\n",
    "         {'favorite_colors': ['purple', 'green', 'blue'],\n",
    "          'interested_in': ['social media', 'intellectual property', 'copyright', 'music', 'books']\n",
    "         }\n",
    "      }\n",
    "\n",
    "color=info['personal_data']['physical_features']['color']\n",
    "print(color)"
   ]
  },
  {
   "cell_type": "markdown",
   "metadata": {},
   "source": [
    "# Processing JSON results"
   ]
  },
  {
   "cell_type": "raw",
   "metadata": {},
   "source": [
    "JSON stands for JavaScript Object Notation. It looks a lot like the representation of nested dictionaries and lists in python when we write them out as literals in a program, but with a few small differences (e.g., the word null instead of None). When your program receives a JSON-formatted string, generally you will want to convert it into a python object, a list or a dictionary.\n",
    "\n",
    "Again, python provides a module for doing this. The module is called json. We will be using two functions in this module, loads and dumps.\n",
    "\n",
    "json.loads() takes a string as input and produces a python object (a dictionary or a list) as output.\n",
    "\n",
    "Consider, for example, some data that we might get from Apple’s iTunes, in the JSON format:"
   ]
  },
  {
   "cell_type": "code",
   "execution_count": 2,
   "metadata": {},
   "outputs": [
    {
     "name": "stdout",
     "output_type": "stream",
     "text": [
      "\n",
      "\n",
      "\n",
      "{\n",
      " \"resultCount\":25,\n",
      " \"results\": [\n",
      "{\"wrapperType\":\"track\", \"kind\":\"podcast\", \"collectionId\":10892}]}\n",
      "------\n",
      "<class 'dict'>\n",
      "dict_keys(['resultCount', 'results'])\n",
      "25\n"
     ]
    }
   ],
   "source": [
    "import json\n",
    "a_string = '\\n\\n\\n{\\n \"resultCount\":25,\\n \"results\": [\\n{\"wrapperType\":\"track\", \"kind\":\"podcast\", \"collectionId\":10892}]}'\n",
    "print(a_string)\n",
    "d = json.loads(a_string)\n",
    "print(\"------\")\n",
    "print(type(d))\n",
    "print(d.keys())\n",
    "print(d['resultCount'])\n",
    "# print(a_string['resultCount'])"
   ]
  },
  {
   "cell_type": "raw",
   "metadata": {},
   "source": [
    "The other function we will use is dumps. It does the inverse of loads. It takes a python object, typically a dictionary or a list, and returns a string, in JSON format. It has a few other parameters. Two useful parameters are sort_keys and indent. When the value True is passed for the sort_keys parameter, the keys of dictionaries are output in alphabetic order with their values. The indent parameter expects an integer. When it is provided, dumps generates a string suitable for displaying to people, with newlines and indentation for nested lists or dictionaries. For example, the following function uses json.dumps to make a human-readable printout of a nested data structure."
   ]
  },
  {
   "cell_type": "code",
   "execution_count": 3,
   "metadata": {},
   "outputs": [
    {
     "name": "stdout",
     "output_type": "stream",
     "text": [
      "{'key1': {'c': True, 'a': 90, '5': 50}, 'key2': {'b': 3, 'c': 'yes'}}\n",
      "--------\n",
      "{\n",
      "  \"key1\": {\n",
      "    \"5\": 50,\n",
      "    \"a\": 90,\n",
      "    \"c\": true\n",
      "  },\n",
      "  \"key2\": {\n",
      "    \"b\": 3,\n",
      "    \"c\": \"yes\"\n",
      "  }\n",
      "}\n"
     ]
    }
   ],
   "source": [
    "import json\n",
    "def pretty(obj):\n",
    "    return json.dumps(obj, sort_keys=True, indent=2)\n",
    "\n",
    "d = {'key1': {'c': True, 'a': 90, '5': 50}, 'key2':{'b': 3, 'c': \"yes\"}}\n",
    "\n",
    "print(d)\n",
    "print('--------')\n",
    "print(pretty(d))"
   ]
  },
  {
   "cell_type": "raw",
   "metadata": {},
   "source": [
    "Because we can only write strings into a file, if we wanted to convert a dictionary d into a json-formatted string so that we could store it in a file, what would we use?\n",
    "\n",
    "A. json.loads(d)\n",
    "B. json.dumps(d)\n",
    "C. d.json()\n",
    "\n",
    "ans-B json.dumps(d)"
   ]
  },
  {
   "cell_type": "code",
   "execution_count": 4,
   "metadata": {},
   "outputs": [
    {
     "name": "stdout",
     "output_type": "stream",
     "text": [
      "level1: \n",
      "     level2: a\n",
      "     level2: b\n",
      "     level2: c\n",
      "level1: \n",
      "     level2: d\n",
      "     level2: e\n",
      "level1: \n",
      "     level2: f\n",
      "     level2: g\n",
      "     level2: h\n"
     ]
    }
   ],
   "source": [
    "nested1 = [['a', 'b', 'c'],['d', 'e'],['f', 'g', 'h']]\n",
    "for x in nested1:\n",
    "    print(\"level1: \")\n",
    "    for y in x:\n",
    "        print(\"     level2: \" + y)"
   ]
  },
  {
   "cell_type": "code",
   "execution_count": 5,
   "metadata": {},
   "outputs": [
    {
     "name": "stdout",
     "output_type": "stream",
     "text": [
      "['Turner', 'Damon', 'Wiig', 'Phelps', 'Obama']\n"
     ]
    }
   ],
   "source": [
    "\n",
    "info = [['Tina', 'Turner', 1939, 'singer'], ['Matt', 'Damon', 1970, 'actor'], ['Kristen', 'Wiig', 1973, 'comedian'], ['Michael', 'Phelps', 1985, 'swimmer'], ['Barack', 'Obama', 1961, 'president']]\n",
    "\n",
    "last_names=[]\n",
    "for lst in info:\n",
    "    last_names.append(lst[1])\n",
    "    \n",
    "print(last_names)"
   ]
  },
  {
   "cell_type": "code",
   "execution_count": 6,
   "metadata": {},
   "outputs": [
    {
     "name": "stdout",
     "output_type": "stream",
     "text": [
      "['bananas', 'blueberries', 'cucumbers', 'green beans', 'root beer', 'cranberry juice']\n"
     ]
    }
   ],
   "source": [
    "\n",
    "L = [['apples', 'bananas', 'oranges', 'blueberries', 'lemons'], ['carrots', 'peas', 'cucumbers', 'green beans'], ['root beer', 'smoothies', 'cranberry juice']]\n",
    "\n",
    "b_strings=[]\n",
    "for lst in L:\n",
    "    for word in lst:\n",
    "        if 'b' in word:\n",
    "            b_strings.append(word)\n",
    "        \n",
    "print(b_strings)"
   ]
  },
  {
   "cell_type": "code",
   "execution_count": 10,
   "metadata": {},
   "outputs": [
    {
     "name": "stdout",
     "output_type": "stream",
     "text": [
      "['bananas', 'blueberries', 'blueberries', 'cucumbers', 'green beans', 'root beer', 'cranberry juice']\n",
      "\n",
      " ['bananas', 'blueberries', 'cucumbers', 'green beans', 'root beer', 'cranberry juice']\n"
     ]
    }
   ],
   "source": [
    "\n",
    "L = [['apples', 'bananas', 'oranges', 'blueberries', 'lemons'], ['carrots', 'peas', 'cucumbers', 'green beans'], ['root beer', 'smoothies', 'cranberry juice']]\n",
    "\n",
    "b_strings=[]\n",
    "for lst in L:\n",
    "    for word in lst:\n",
    "        for character in word:\n",
    "            if character=='b':\n",
    "                b_strings.append(word)\n",
    "print(b_strings)\n",
    "### no. of time b occure in word it prints word\n",
    "### avoid it by using break statement so it out from last for loop\n",
    "\n",
    "b_strings=[]\n",
    "for lst in L:\n",
    "    for word in lst:\n",
    "        for character in word:\n",
    "            if character=='b':\n",
    "                b_strings.append(word)\n",
    "                break\n",
    "print('\\n',b_strings)"
   ]
  },
  {
   "cell_type": "code",
   "execution_count": 11,
   "metadata": {},
   "outputs": [
    {
     "name": "stdout",
     "output_type": "stream",
     "text": [
      "level1: \n"
     ]
    },
    {
     "ename": "TypeError",
     "evalue": "'int' object is not iterable",
     "output_type": "error",
     "traceback": [
      "\u001b[1;31m---------------------------------------------------------------------------\u001b[0m",
      "\u001b[1;31mTypeError\u001b[0m                                 Traceback (most recent call last)",
      "\u001b[1;32m<ipython-input-11-78cadb62132a>\u001b[0m in \u001b[0;36m<module>\u001b[1;34m\u001b[0m\n\u001b[0;32m      2\u001b[0m \u001b[1;32mfor\u001b[0m \u001b[0mx\u001b[0m \u001b[1;32min\u001b[0m \u001b[0mnested1\u001b[0m\u001b[1;33m:\u001b[0m\u001b[1;33m\u001b[0m\u001b[1;33m\u001b[0m\u001b[0m\n\u001b[0;32m      3\u001b[0m     \u001b[0mprint\u001b[0m\u001b[1;33m(\u001b[0m\u001b[1;34m\"level1: \"\u001b[0m\u001b[1;33m)\u001b[0m\u001b[1;33m\u001b[0m\u001b[1;33m\u001b[0m\u001b[0m\n\u001b[1;32m----> 4\u001b[1;33m     \u001b[1;32mfor\u001b[0m \u001b[0my\u001b[0m \u001b[1;32min\u001b[0m \u001b[0mx\u001b[0m\u001b[1;33m:\u001b[0m\u001b[1;33m\u001b[0m\u001b[1;33m\u001b[0m\u001b[0m\n\u001b[0m\u001b[0;32m      5\u001b[0m         \u001b[0mprint\u001b[0m\u001b[1;33m(\u001b[0m\u001b[1;34m\"     level2: {}\"\u001b[0m\u001b[1;33m.\u001b[0m\u001b[0mformat\u001b[0m\u001b[1;33m(\u001b[0m\u001b[0my\u001b[0m\u001b[1;33m)\u001b[0m\u001b[1;33m)\u001b[0m\u001b[1;33m\u001b[0m\u001b[1;33m\u001b[0m\u001b[0m\n",
      "\u001b[1;31mTypeError\u001b[0m: 'int' object is not iterable"
     ]
    }
   ],
   "source": [
    "nested1 = [1, 2, ['a', 'b', 'c'],['d', 'e'],['f', 'g', 'h']]\n",
    "for x in nested1:\n",
    "    print(\"level1: \")\n",
    "    for y in x:\n",
    "        print(\"     level2: {}\".format(y))\n"
   ]
  },
  {
   "cell_type": "code",
   "execution_count": 14,
   "metadata": {},
   "outputs": [
    {
     "name": "stdout",
     "output_type": "stream",
     "text": [
      "level1: \n",
      "  1\n",
      "level1: \n",
      "  2\n",
      "level1: \n",
      "     level2: a\n",
      "     level2: b\n",
      "     level2: c\n",
      "level1: \n",
      "     level2: d\n",
      "     level2: e\n",
      "level1: \n",
      "     level2: f\n",
      "     level2: g\n",
      "     level2: h\n"
     ]
    }
   ],
   "source": [
    "# nested1 = [1, 2, ['a', 'b', 'c'],['d', 'e'],['f', 'g', 'h']]\n",
    "for x in nested1:\n",
    "    print(\"level1: \")\n",
    "    if type(x) is list:\n",
    "        for y in x:\n",
    "            print(\"     level2: {}\".format(y))\n",
    "    else:\n",
    "        print(\" \",x)\n",
    "        \n"
   ]
  },
  {
   "cell_type": "markdown",
   "metadata": {},
   "source": [
    "# Deep and shallow copy"
   ]
  },
  {
   "cell_type": "raw",
   "metadata": {},
   "source": [
    "Earlier when we discussed cloning and aliasing lists we had mentioned that simply cloning a list using [:] would take care of any issues with having two lists unintentionally connected to each other. That was definitely true for making shallow copies (copying a list at the highest level), but as we get into nested data, and nested lists in particular, the rules become a bit more complicated. We can have second-level aliasing in these cases, which means we need to make deep copies.\n",
    "\n",
    "When you copy a nested list, you do not also get copies of the internal lists. This means that if you perform a mutation operation on one of the original sublists, the copied version will also change. We can see this happen in the following nested list, which only has two levels."
   ]
  },
  {
   "cell_type": "code",
   "execution_count": 15,
   "metadata": {},
   "outputs": [
    {
     "name": "stdout",
     "output_type": "stream",
     "text": [
      "[['dogs', 'puppies'], ['cats', 'kittens']]\n",
      "False\n",
      "True\n",
      "[['dogs', 'puppies', ['canines']], ['cats', 'kittens']]\n",
      "-------- Now look at the copied version -----------\n",
      "[['dogs', 'puppies', ['canines']], ['cats', 'kittens']]\n"
     ]
    }
   ],
   "source": [
    "original = [['dogs', 'puppies'], ['cats', \"kittens\"]]\n",
    "copied_version = original[:]\n",
    "print(copied_version)\n",
    "print(copied_version is original)\n",
    "print(copied_version == original)\n",
    "original[0].append([\"canines\"])\n",
    "print(original)\n",
    "print(\"-------- Now look at the copied version -----------\")\n",
    "print(copied_version)"
   ]
  },
  {
   "cell_type": "code",
   "execution_count": 16,
   "metadata": {},
   "outputs": [
    {
     "name": "stdout",
     "output_type": "stream",
     "text": [
      "[['dogs', 'puppies'], ['cats', 'kittens']]\n",
      "[['dogs', 'puppies', ['canines']], ['cats', 'kittens']]\n",
      "-------- Now look at the copied version -----------\n",
      "[['dogs', 'puppies'], ['cats', 'kittens']]\n"
     ]
    }
   ],
   "source": [
    "original = [['dogs', 'puppies'], ['cats', \"kittens\"]]\n",
    "copied_outer_list = []\n",
    "for inner_list in original:\n",
    "    copied_inner_list = []\n",
    "    for item in inner_list:\n",
    "        copied_inner_list.append(item)\n",
    "    copied_outer_list.append(copied_inner_list)\n",
    "print(copied_outer_list)\n",
    "original[0].append([\"canines\"])\n",
    "print(original)\n",
    "print(\"-------- Now look at the copied version -----------\")\n",
    "print(copied_outer_list)"
   ]
  },
  {
   "cell_type": "raw",
   "metadata": {},
   "source": [
    "Or, equivalently, you could take advantage of the slice operator to do the copying of the inner list."
   ]
  },
  {
   "cell_type": "code",
   "execution_count": 17,
   "metadata": {},
   "outputs": [
    {
     "name": "stdout",
     "output_type": "stream",
     "text": [
      "[['dogs', 'puppies'], ['cats', 'kittens']]\n",
      "[['dogs', 'puppies', ['canines']], ['cats', 'kittens']]\n",
      "-------- Now look at the copied version -----------\n",
      "[['dogs', 'puppies'], ['cats', 'kittens']]\n"
     ]
    }
   ],
   "source": [
    "original = [['dogs', 'puppies'], ['cats', \"kittens\"]]\n",
    "copied_outer_list = []\n",
    "for inner_list in original:\n",
    "    copied_inner_list = inner_list[:]\n",
    "    copied_outer_list.append(copied_inner_list)\n",
    "print(copied_outer_list)\n",
    "original[0].append([\"canines\"])\n",
    "print(original)\n",
    "print(\"-------- Now look at the copied version -----------\")\n",
    "print(copied_outer_list)\n"
   ]
  },
  {
   "cell_type": "raw",
   "metadata": {},
   "source": [
    "This process above works fine when there are only two layers or levels in a nested list. However, if we want to make a copy of a nested list that has more than two levels, then we recommend using the copy module. In the copy module there is a method called deepcopy that will take care of the operation for you.\n",
    "\n"
   ]
  },
  {
   "cell_type": "code",
   "execution_count": 20,
   "metadata": {},
   "outputs": [
    {
     "name": "stdout",
     "output_type": "stream",
     "text": [
      "-------shallow copy initial------\n",
      "[['canines', ['dogs', 'puppies']], ['felines', ['cats', 'kittens']]]\n",
      "-------- Original -----------\n",
      "[['canines', ['dogs', 'puppies'], ['marsupials']], ['felines', ['cats', 'kittens']], 'Hi there']\n",
      "-------- deep copy -----------\n",
      "[['canines', ['dogs', 'puppies']], ['felines', ['cats', 'kittens']]]\n",
      "-------- shallow copy -----------\n",
      "[['canines', ['dogs', 'puppies'], ['marsupials']], ['felines', ['cats', 'kittens']]]\n"
     ]
    }
   ],
   "source": [
    "import copy\n",
    "original = [['canines', ['dogs', 'puppies']], ['felines', ['cats', 'kittens']]]\n",
    "shallow_copy_version = original[:]\n",
    "print(\"-------shallow copy initial------\")\n",
    "print(shallow_copy_version)\n",
    "deeply_copied_version = copy.deepcopy(original)\n",
    "original.append(\"Hi there\")\n",
    "original[0].append([\"marsupials\"])\n",
    "print(\"-------- Original -----------\")\n",
    "print(original)\n",
    "print(\"-------- deep copy -----------\")\n",
    "print(deeply_copied_version)\n",
    "print(\"-------- shallow copy -----------\")\n",
    "print(shallow_copy_version)\n"
   ]
  },
  {
   "cell_type": "raw",
   "metadata": {},
   "source": [
    "here note that shallow_copy only copied a index of original file (index 0 and index 1). so if we update anything in original index 0 or index 1, change appears in shallow_copy also(here marsupials appended to index 0), whereas \"Hi there\" appended to index 2 of original so it wont appear in shallow_Copy.\n",
    "shallow_copy only has index which extract value from original."
   ]
  },
  {
   "cell_type": "code",
   "execution_count": 21,
   "metadata": {},
   "outputs": [],
   "source": [
    "res = {\n",
    "  \"search_metadata\": {\n",
    "    \"count\": 3,\n",
    "    \"completed_in\": 0.015,\n",
    "    \"max_id_str\": \"536624519285583872\",\n",
    "    \"since_id_str\": \"0\",\n",
    "    \"next_results\": \"?max_id=536623674942439424&q=University%20of%20Michigan&count=3&include_entities=1\",\n",
    "    \"refresh_url\": \"?since_id=536624519285583872&q=University%20of%20Michigan&include_entities=1\",\n",
    "    \"since_id\": 0,\n",
    "    \"query\": \"University+of+Michigan\",\n",
    "    \"max_id\": 536624519285583872\n",
    "  },\n",
    "  \"statuses\": [\n",
    "    {\n",
    "      \"contributors\": None,\n",
    "      \"truncated\": False,\n",
    "      \"text\": \"RT @mikeweber25: I'm decommiting from the university of Michigan thank you Michigan for the love and support I'll remake my decision at the\\u2026\",\n",
    "      \"in_reply_to_status_id\": None,\n",
    "      \"id\": 536624519285583872,\n",
    "      \"favorite_count\": 0,\n",
    "      \"source\": \"<a href=\\\"http://twitter.com/download/iphone\\\" rel=\\\"nofollow\\\">Twitter for iPhone</a>\",\n",
    "      \"retweeted\": False,\n",
    "      \"coordinates\": None,\n",
    "      \"entities\": {\n",
    "        \"symbols\": [],\n",
    "        \"user_mentions\": [\n",
    "          {\n",
    "            \"id\": 1119996684,\n",
    "            \"indices\": [\n",
    "              3,\n",
    "              15\n",
    "            ],\n",
    "            \"id_str\": \"1119996684\",\n",
    "            \"screen_name\": \"mikeweber25\",\n",
    "            \"name\": \"Mikey\"\n",
    "          }\n",
    "        ],\n",
    "        \"hashtags\": [],\n",
    "        \"urls\": []\n",
    "      },\n",
    "      \"in_reply_to_screen_name\": None,\n",
    "      \"in_reply_to_user_id\": None,\n",
    "      \"retweet_count\": 2014,\n",
    "      \"id_str\": \"536624519285583872\",\n",
    "      \"favorited\": False,\n",
    "      \"retweeted_status\": {\n",
    "        \"contributors\": None,\n",
    "        \"truncated\": False,\n",
    "        \"text\": \"I'm decommiting from the university of Michigan thank you Michigan for the love and support I'll remake my decision at the army bowl\",\n",
    "        \"in_reply_to_status_id\": None,\n",
    "        \"id\": 536300265616322560,\n",
    "        \"favorite_count\": 1583,\n",
    "        \"source\": \"<a href=\\\"http://twitter.com/download/iphone\\\" rel=\\\"nofollow\\\">Twitter for iPhone</a>\",\n",
    "        \"retweeted\": False,\n",
    "        \"coordinates\": None,\n",
    "        \"entities\": {\n",
    "          \"symbols\": [],\n",
    "          \"user_mentions\": [],\n",
    "          \"hashtags\": [],\n",
    "          \"urls\": []\n",
    "        },\n",
    "        \"in_reply_to_screen_name\": None,\n",
    "        \"in_reply_to_user_id\": None,\n",
    "        \"retweet_count\": 2014,\n",
    "        \"id_str\": \"536300265616322560\",\n",
    "        \"favorited\": False,\n",
    "        \"user\": {\n",
    "          \"follow_request_sent\": False,\n",
    "          \"profile_use_background_image\": True,\n",
    "          \"profile_text_color\": \"666666\",\n",
    "          \"default_profile_image\": False,\n",
    "          \"id\": 1119996684,\n",
    "          \"profile_background_image_url_https\": \"https://abs.twimg.com/images/themes/theme9/bg.gif\",\n",
    "          \"verified\": False,\n",
    "          \"profile_location\": None,\n",
    "          \"profile_image_url_https\": \"https://pbs.twimg.com/profile_images/534465900343083008/A09dIq1d_normal.jpeg\",\n",
    "          \"profile_sidebar_fill_color\": \"252429\",\n",
    "          \"entities\": {\n",
    "            \"description\": {\n",
    "              \"urls\": []\n",
    "            }\n",
    "          },\n",
    "          \"followers_count\": 5444,\n",
    "          \"profile_sidebar_border_color\": \"FFFFFF\",\n",
    "          \"id_str\": \"1119996684\",\n",
    "          \"profile_background_color\": \"C0DEED\",\n",
    "          \"listed_count\": 36,\n",
    "          \"is_translation_enabled\": False,\n",
    "          \"utc_offset\": None,\n",
    "          \"statuses_count\": 6525,\n",
    "          \"description\": \"Mike Weber (U.S Army All American) DETROIT CTSENIOR State Champion\",\n",
    "          \"friends_count\": 693,\n",
    "          \"location\": \"\",\n",
    "          \"profile_link_color\": \"0084B4\",\n",
    "          \"profile_image_url\": \"http://pbs.twimg.com/profile_images/534465900343083008/A09dIq1d_normal.jpeg\",\n",
    "          \"following\": False,\n",
    "          \"geo_enabled\": False,\n",
    "          \"profile_banner_url\": \"https://pbs.twimg.com/profile_banners/1119996684/1416261575\",\n",
    "          \"profile_background_image_url\": \"http://abs.twimg.com/images/themes/theme9/bg.gif\",\n",
    "          \"name\": \"Mikey\",\n",
    "          \"lang\": \"en\",\n",
    "          \"profile_background_tile\": False,\n",
    "          \"favourites_count\": 1401,\n",
    "          \"screen_name\": \"mikeweber25\",\n",
    "          \"notifications\": False,\n",
    "          \"url\": None,\n",
    "          \"created_at\": \"Fri Jan 25 18:45:53 +0000 2013\",\n",
    "          \"contributors_enabled\": False,\n",
    "          \"time_zone\": None,\n",
    "          \"protected\": False,\n",
    "          \"default_profile\": False,\n",
    "          \"is_translator\": False\n",
    "        },\n",
    "        \"geo\": None,\n",
    "        \"in_reply_to_user_id_str\": None,\n",
    "        \"lang\": \"en\",\n",
    "        \"created_at\": \"Sat Nov 22 23:28:41 +0000 2014\",\n",
    "        \"in_reply_to_status_id_str\": None,\n",
    "        \"place\": None,\n",
    "        \"metadata\": {\n",
    "          \"iso_language_code\": \"en\",\n",
    "          \"result_type\": \"recent\"\n",
    "        }\n",
    "      },\n",
    "      \"user\": {\n",
    "        \"follow_request_sent\": False,\n",
    "        \"profile_use_background_image\": True,\n",
    "        \"profile_text_color\": \"333333\",\n",
    "        \"default_profile_image\": False,\n",
    "        \"id\": 2435537208,\n",
    "        \"profile_background_image_url_https\": \"https://abs.twimg.com/images/themes/theme1/bg.png\",\n",
    "        \"verified\": False,\n",
    "        \"profile_location\": None,\n",
    "        \"profile_image_url_https\": \"https://pbs.twimg.com/profile_images/532694075947110400/oZEP5XNQ_normal.jpeg\",\n",
    "        \"profile_sidebar_fill_color\": \"DDEEF6\",\n",
    "        \"entities\": {\n",
    "          \"description\": {\n",
    "            \"urls\": []\n",
    "          }\n",
    "        },\n",
    "        \"followers_count\": 161,\n",
    "        \"profile_sidebar_border_color\": \"C0DEED\",\n",
    "        \"id_str\": \"2435537208\",\n",
    "        \"profile_background_color\": \"C0DEED\",\n",
    "        \"listed_count\": 0,\n",
    "        \"is_translation_enabled\": False,\n",
    "        \"utc_offset\": None,\n",
    "        \"statuses_count\": 524,\n",
    "        \"description\": \"Delasalle '17 Baseball & Football.\",\n",
    "        \"friends_count\": 255,\n",
    "        \"location\": \"\",\n",
    "        \"profile_link_color\": \"0084B4\",\n",
    "        \"profile_image_url\": \"http://pbs.twimg.com/profile_images/532694075947110400/oZEP5XNQ_normal.jpeg\",\n",
    "        \"following\": False,\n",
    "        \"geo_enabled\": False,\n",
    "        \"profile_banner_url\": \"https://pbs.twimg.com/profile_banners/2435537208/1406779364\",\n",
    "        \"profile_background_image_url\": \"http://abs.twimg.com/images/themes/theme1/bg.png\",\n",
    "        \"name\": \"Andrew Brooks\",\n",
    "        \"lang\": \"en\",\n",
    "        \"profile_background_tile\": False,\n",
    "        \"favourites_count\": 555,\n",
    "        \"screen_name\": \"31brooks_\",\n",
    "        \"notifications\": False,\n",
    "        \"url\": None,\n",
    "        \"created_at\": \"Wed Apr 09 14:34:41 +0000 2014\",\n",
    "        \"contributors_enabled\": False,\n",
    "        \"time_zone\": None,\n",
    "        \"protected\": False,\n",
    "        \"default_profile\": True,\n",
    "        \"is_translator\": False\n",
    "      },\n",
    "      \"geo\": None,\n",
    "      \"in_reply_to_user_id_str\": None,\n",
    "      \"lang\": \"en\",\n",
    "      \"created_at\": \"Sun Nov 23 20:57:10 +0000 2014\",\n",
    "      \"in_reply_to_status_id_str\": None,\n",
    "      \"place\": None,\n",
    "      \"metadata\": {\n",
    "        \"iso_language_code\": \"en\",\n",
    "        \"result_type\": \"recent\"\n",
    "      }\n",
    "    },\n",
    "    {\n",
    "      \"contributors\": None,\n",
    "      \"truncated\": False,\n",
    "      \"text\": \"RT @Plantedd: The University of Michigan moved a big Bur Oak yesterday. 65ft tall. 350+ tons. http://t.co/v2Y6vl3f9e\",\n",
    "      \"in_reply_to_status_id\": None,\n",
    "      \"id\": 536624216305848320,\n",
    "      \"favorite_count\": 0,\n",
    "      \"source\": \"<a href=\\\"http://tapbots.com/tweetbot\\\" rel=\\\"nofollow\\\">Tweetbot for i\\u039fS</a>\",\n",
    "      \"retweeted\": False,\n",
    "      \"coordinates\": None,\n",
    "      \"entities\": {\n",
    "        \"symbols\": [],\n",
    "        \"user_mentions\": [\n",
    "          {\n",
    "            \"id\": 462890283,\n",
    "            \"indices\": [\n",
    "              3,\n",
    "              12\n",
    "            ],\n",
    "            \"id_str\": \"462890283\",\n",
    "            \"screen_name\": \"Plantedd\",\n",
    "            \"name\": \"David Wong\"\n",
    "          }\n",
    "        ],\n",
    "        \"hashtags\": [],\n",
    "        \"urls\": [],\n",
    "        \"media\": [\n",
    "          {\n",
    "            \"source_status_id_str\": \"526276522374889472\",\n",
    "            \"expanded_url\": \"http://twitter.com/Plantedd/status/526276522374889472/photo/1\",\n",
    "            \"display_url\": \"pic.twitter.com/v2Y6vl3f9e\",\n",
    "            \"url\": \"http://t.co/v2Y6vl3f9e\",\n",
    "            \"media_url_https\": \"https://pbs.twimg.com/media/B021tLsIYAADq21.jpg\",\n",
    "            \"source_status_id\": 526276522374889472,\n",
    "            \"id_str\": \"526276519308845056\",\n",
    "            \"sizes\": {\n",
    "              \"small\": {\n",
    "                \"h\": 191,\n",
    "                \"resize\": \"fit\",\n",
    "                \"w\": 340\n",
    "              },\n",
    "              \"large\": {\n",
    "                \"h\": 576,\n",
    "                \"resize\": \"fit\",\n",
    "                \"w\": 1024\n",
    "              },\n",
    "              \"medium\": {\n",
    "                \"h\": 337,\n",
    "                \"resize\": \"fit\",\n",
    "                \"w\": 600\n",
    "              },\n",
    "              \"thumb\": {\n",
    "                \"h\": 150,\n",
    "                \"resize\": \"crop\",\n",
    "                \"w\": 150\n",
    "              }\n",
    "            },\n",
    "            \"indices\": [\n",
    "              94,\n",
    "              116\n",
    "            ],\n",
    "            \"type\": \"photo\",\n",
    "            \"id\": 526276519308845056,\n",
    "            \"media_url\": \"http://pbs.twimg.com/media/B021tLsIYAADq21.jpg\"\n",
    "          }\n",
    "        ]\n",
    "      },\n",
    "      \"in_reply_to_screen_name\": None,\n",
    "      \"in_reply_to_user_id\": None,\n",
    "      \"retweet_count\": 27,\n",
    "      \"id_str\": \"536624216305848320\",\n",
    "      \"favorited\": False,\n",
    "      \"retweeted_status\": {\n",
    "        \"contributors\": None,\n",
    "        \"truncated\": False,\n",
    "        \"text\": \"The University of Michigan moved a big Bur Oak yesterday. 65ft tall. 350+ tons. http://t.co/v2Y6vl3f9e\",\n",
    "        \"in_reply_to_status_id\": None,\n",
    "        \"id\": 526276522374889472,\n",
    "        \"favorite_count\": 25,\n",
    "        \"source\": \"<a href=\\\"http://twitter.com/download/iphone\\\" rel=\\\"nofollow\\\">Twitter for iPhone</a>\",\n",
    "        \"retweeted\": False,\n",
    "        \"coordinates\": None,\n",
    "        \"entities\": {\n",
    "          \"symbols\": [],\n",
    "          \"user_mentions\": [],\n",
    "          \"hashtags\": [],\n",
    "          \"urls\": [],\n",
    "          \"media\": [\n",
    "            {\n",
    "              \"expanded_url\": \"http://twitter.com/Plantedd/status/526276522374889472/photo/1\",\n",
    "              \"display_url\": \"pic.twitter.com/v2Y6vl3f9e\",\n",
    "              \"url\": \"http://t.co/v2Y6vl3f9e\",\n",
    "              \"media_url_https\": \"https://pbs.twimg.com/media/B021tLsIYAADq21.jpg\",\n",
    "              \"id_str\": \"526276519308845056\",\n",
    "              \"sizes\": {\n",
    "                \"small\": {\n",
    "                  \"h\": 191,\n",
    "                  \"resize\": \"fit\",\n",
    "                  \"w\": 340\n",
    "                },\n",
    "                \"large\": {\n",
    "                  \"h\": 576,\n",
    "                  \"resize\": \"fit\",\n",
    "                  \"w\": 1024\n",
    "                },\n",
    "                \"medium\": {\n",
    "                  \"h\": 337,\n",
    "                  \"resize\": \"fit\",\n",
    "                  \"w\": 600\n",
    "                },\n",
    "                \"thumb\": {\n",
    "                  \"h\": 150,\n",
    "                  \"resize\": \"crop\",\n",
    "                  \"w\": 150\n",
    "                }\n",
    "              },\n",
    "              \"indices\": [\n",
    "                80,\n",
    "                102\n",
    "              ],\n",
    "              \"type\": \"photo\",\n",
    "              \"id\": 526276519308845056,\n",
    "              \"media_url\": \"http://pbs.twimg.com/media/B021tLsIYAADq21.jpg\"\n",
    "            }\n",
    "          ]\n",
    "        },\n",
    "        \"in_reply_to_screen_name\": None,\n",
    "        \"in_reply_to_user_id\": None,\n",
    "        \"retweet_count\": 27,\n",
    "        \"id_str\": \"526276522374889472\",\n",
    "        \"favorited\": False,\n",
    "        \"user\": {\n",
    "          \"follow_request_sent\": False,\n",
    "          \"profile_use_background_image\": True,\n",
    "          \"profile_text_color\": \"333333\",\n",
    "          \"default_profile_image\": False,\n",
    "          \"id\": 462890283,\n",
    "          \"profile_background_image_url_https\": \"https://abs.twimg.com/images/themes/theme1/bg.png\",\n",
    "          \"verified\": False,\n",
    "          \"profile_location\": None,\n",
    "          \"profile_image_url_https\": \"https://pbs.twimg.com/profile_images/1791926707/Plantedd_Logo__square__normal.jpg\",\n",
    "          \"profile_sidebar_fill_color\": \"DDEEF6\",\n",
    "          \"entities\": {\n",
    "            \"url\": {\n",
    "              \"urls\": [\n",
    "                {\n",
    "                  \"url\": \"http://t.co/ZOnsCHvoKt\",\n",
    "                  \"indices\": [\n",
    "                    0,\n",
    "                    22\n",
    "                  ],\n",
    "                  \"expanded_url\": \"http://www.plantedd.com\",\n",
    "                  \"display_url\": \"plantedd.com\"\n",
    "                }\n",
    "              ]\n",
    "            },\n",
    "            \"description\": {\n",
    "              \"urls\": []\n",
    "            }\n",
    "          },\n",
    "          \"followers_count\": 2598,\n",
    "          \"profile_sidebar_border_color\": \"C0DEED\",\n",
    "          \"id_str\": \"462890283\",\n",
    "          \"profile_background_color\": \"C0DEED\",\n",
    "          \"listed_count\": 61,\n",
    "          \"is_translation_enabled\": False,\n",
    "          \"utc_offset\": 0,\n",
    "          \"statuses_count\": 8157,\n",
    "          \"description\": \"Hello, I'm the supervillain behind Plantedd. We're an online market for plant lovers plotting to take over the world by making it simple to find and buy plants.\",\n",
    "          \"friends_count\": 2664,\n",
    "          \"location\": \"UK\",\n",
    "          \"profile_link_color\": \"0084B4\",\n",
    "          \"profile_image_url\": \"http://pbs.twimg.com/profile_images/1791926707/Plantedd_Logo__square__normal.jpg\",\n",
    "          \"following\": False,\n",
    "          \"geo_enabled\": False,\n",
    "          \"profile_banner_url\": \"https://pbs.twimg.com/profile_banners/462890283/1398254314\",\n",
    "          \"profile_background_image_url\": \"http://abs.twimg.com/images/themes/theme1/bg.png\",\n",
    "          \"name\": \"David Wong\",\n",
    "          \"lang\": \"en\",\n",
    "          \"profile_background_tile\": False,\n",
    "          \"favourites_count\": 371,\n",
    "          \"screen_name\": \"Plantedd\",\n",
    "          \"notifications\": False,\n",
    "          \"url\": \"http://t.co/ZOnsCHvoKt\",\n",
    "          \"created_at\": \"Fri Jan 13 13:46:46 +0000 2012\",\n",
    "          \"contributors_enabled\": False,\n",
    "          \"time_zone\": \"Edinburgh\",\n",
    "          \"protected\": False,\n",
    "          \"default_profile\": True,\n",
    "          \"is_translator\": False\n",
    "        },\n",
    "        \"geo\": None,\n",
    "        \"in_reply_to_user_id_str\": None,\n",
    "        \"possibly_sensitive\": False,\n",
    "        \"lang\": \"en\",\n",
    "        \"created_at\": \"Sun Oct 26 07:37:55 +0000 2014\",\n",
    "        \"in_reply_to_status_id_str\": None,\n",
    "        \"place\": None,\n",
    "        \"metadata\": {\n",
    "          \"iso_language_code\": \"en\",\n",
    "          \"result_type\": \"recent\"\n",
    "        }\n",
    "      },\n",
    "      \"user\": {\n",
    "        \"follow_request_sent\": False,\n",
    "        \"profile_use_background_image\": True,\n",
    "        \"profile_text_color\": \"2A48AE\",\n",
    "        \"default_profile_image\": False,\n",
    "        \"id\": 104940733,\n",
    "        \"profile_background_image_url_https\": \"https://abs.twimg.com/images/themes/theme17/bg.gif\",\n",
    "        \"verified\": False,\n",
    "        \"profile_location\": None,\n",
    "        \"profile_image_url_https\": \"https://pbs.twimg.com/profile_images/2878477539/78e20432088b5ee2addc9ce3362fd461_normal.jpeg\",\n",
    "        \"profile_sidebar_fill_color\": \"6378B1\",\n",
    "        \"entities\": {\n",
    "          \"description\": {\n",
    "            \"urls\": []\n",
    "          }\n",
    "        },\n",
    "        \"followers_count\": 149,\n",
    "        \"profile_sidebar_border_color\": \"FBD0C9\",\n",
    "        \"id_str\": \"104940733\",\n",
    "        \"profile_background_color\": \"0C003D\",\n",
    "        \"listed_count\": 18,\n",
    "        \"is_translation_enabled\": False,\n",
    "        \"utc_offset\": 0,\n",
    "        \"statuses_count\": 16031,\n",
    "        \"description\": \"Have you any dreams you'd like to sell?\",\n",
    "        \"friends_count\": 248,\n",
    "        \"location\": \"\",\n",
    "        \"profile_link_color\": \"0F1B7C\",\n",
    "        \"profile_image_url\": \"http://pbs.twimg.com/profile_images/2878477539/78e20432088b5ee2addc9ce3362fd461_normal.jpeg\",\n",
    "        \"following\": False,\n",
    "        \"geo_enabled\": False,\n",
    "        \"profile_banner_url\": \"https://pbs.twimg.com/profile_banners/104940733/1410032966\",\n",
    "        \"profile_background_image_url\": \"http://abs.twimg.com/images/themes/theme17/bg.gif\",\n",
    "        \"name\": \"Heather\",\n",
    "        \"lang\": \"en\",\n",
    "        \"profile_background_tile\": False,\n",
    "        \"favourites_count\": 777,\n",
    "        \"screen_name\": \"froyoho\",\n",
    "        \"notifications\": False,\n",
    "        \"url\": None,\n",
    "        \"created_at\": \"Thu Jan 14 21:37:54 +0000 2010\",\n",
    "        \"contributors_enabled\": False,\n",
    "        \"time_zone\": \"London\",\n",
    "        \"protected\": False,\n",
    "        \"default_profile\": False,\n",
    "        \"is_translator\": False\n",
    "      },\n",
    "      \"geo\": None,\n",
    "      \"in_reply_to_user_id_str\": None,\n",
    "      \"possibly_sensitive\": False,\n",
    "      \"lang\": \"en\",\n",
    "      \"created_at\": \"Sun Nov 23 20:55:57 +0000 2014\",\n",
    "      \"in_reply_to_status_id_str\": None,\n",
    "      \"place\": None,\n",
    "      \"metadata\": {\n",
    "        \"iso_language_code\": \"en\",\n",
    "        \"result_type\": \"recent\"\n",
    "      }\n",
    "    },\n",
    "    {\n",
    "      \"contributors\": None,\n",
    "      \"truncated\": False,\n",
    "      \"text\": \"RT @NotableHistory: Madonna, 18 year old freshman at the University of Michigan, 1976 http://t.co/x2dm1G67ea\",\n",
    "      \"in_reply_to_status_id\": None,\n",
    "      \"id\": 536623674942439425,\n",
    "      \"favorite_count\": 0,\n",
    "      \"source\": \"<a href=\\\"http://twitter.com/download/android\\\" rel=\\\"nofollow\\\">Twitter for Android</a>\",\n",
    "      \"retweeted\": False,\n",
    "      \"coordinates\": None,\n",
    "      \"entities\": {\n",
    "        \"symbols\": [],\n",
    "        \"user_mentions\": [\n",
    "          {\n",
    "            \"id\": 844766941,\n",
    "            \"indices\": [\n",
    "              3,\n",
    "              18\n",
    "            ],\n",
    "            \"id_str\": \"844766941\",\n",
    "            \"screen_name\": \"NotableHistory\",\n",
    "            \"name\": \"OnThisDay & Facts\"\n",
    "          }\n",
    "        ],\n",
    "        \"hashtags\": [],\n",
    "        \"urls\": [],\n",
    "        \"media\": [\n",
    "          {\n",
    "            \"source_status_id_str\": \"536610190334779392\",\n",
    "            \"expanded_url\": \"http://twitter.com/NotableHistory/status/536610190334779392/photo/1\",\n",
    "            \"display_url\": \"pic.twitter.com/x2dm1G67ea\",\n",
    "            \"url\": \"http://t.co/x2dm1G67ea\",\n",
    "            \"media_url_https\": \"https://pbs.twimg.com/media/B3EXbQkCMAEipwM.jpg\",\n",
    "            \"source_status_id\": 536610190334779392,\n",
    "            \"id_str\": \"536235587703812097\",\n",
    "            \"sizes\": {\n",
    "              \"small\": {\n",
    "                \"h\": 487,\n",
    "                \"resize\": \"fit\",\n",
    "                \"w\": 340\n",
    "              },\n",
    "              \"large\": {\n",
    "                \"h\": 918,\n",
    "                \"resize\": \"fit\",\n",
    "                \"w\": 640\n",
    "              },\n",
    "              \"medium\": {\n",
    "                \"h\": 860,\n",
    "                \"resize\": \"fit\",\n",
    "                \"w\": 600\n",
    "              },\n",
    "              \"thumb\": {\n",
    "                \"h\": 150,\n",
    "                \"resize\": \"crop\",\n",
    "                \"w\": 150\n",
    "              }\n",
    "            },\n",
    "            \"indices\": [\n",
    "              86,\n",
    "              108\n",
    "            ],\n",
    "            \"type\": \"photo\",\n",
    "            \"id\": 536235587703812097,\n",
    "            \"media_url\": \"http://pbs.twimg.com/media/B3EXbQkCMAEipwM.jpg\"\n",
    "          }\n",
    "        ]\n",
    "      },\n",
    "      \"in_reply_to_screen_name\": None,\n",
    "      \"in_reply_to_user_id\": None,\n",
    "      \"retweet_count\": 9,\n",
    "      \"id_str\": \"536623674942439425\",\n",
    "      \"favorited\": False,\n",
    "      \"retweeted_status\": {\n",
    "        \"contributors\": None,\n",
    "        \"truncated\": False,\n",
    "        \"text\": \"Madonna, 18 year old freshman at the University of Michigan, 1976 http://t.co/x2dm1G67ea\",\n",
    "        \"in_reply_to_status_id\": None,\n",
    "        \"id\": 536610190334779392,\n",
    "        \"favorite_count\": 13,\n",
    "        \"source\": \"<a href=\\\"https://ads.twitter.com\\\" rel=\\\"nofollow\\\">Twitter Ads</a>\",\n",
    "        \"retweeted\": False,\n",
    "        \"coordinates\": None,\n",
    "        \"entities\": {\n",
    "          \"symbols\": [],\n",
    "          \"user_mentions\": [],\n",
    "          \"hashtags\": [],\n",
    "          \"urls\": [],\n",
    "          \"media\": [\n",
    "            {\n",
    "              \"expanded_url\": \"http://twitter.com/NotableHistory/status/536610190334779392/photo/1\",\n",
    "              \"display_url\": \"pic.twitter.com/x2dm1G67ea\",\n",
    "              \"url\": \"http://t.co/x2dm1G67ea\",\n",
    "              \"media_url_https\": \"https://pbs.twimg.com/media/B3EXbQkCMAEipwM.jpg\",\n",
    "              \"id_str\": \"536235587703812097\",\n",
    "              \"sizes\": {\n",
    "                \"small\": {\n",
    "                  \"h\": 487,\n",
    "                  \"resize\": \"fit\",\n",
    "                  \"w\": 340\n",
    "                },\n",
    "                \"large\": {\n",
    "                  \"h\": 918,\n",
    "                  \"resize\": \"fit\",\n",
    "                  \"w\": 640\n",
    "                },\n",
    "                \"medium\": {\n",
    "                  \"h\": 860,\n",
    "                  \"resize\": \"fit\",\n",
    "                  \"w\": 600\n",
    "                },\n",
    "                \"thumb\": {\n",
    "                  \"h\": 150,\n",
    "                  \"resize\": \"crop\",\n",
    "                  \"w\": 150\n",
    "                }\n",
    "              },\n",
    "              \"indices\": [\n",
    "                66,\n",
    "                88\n",
    "              ],\n",
    "              \"type\": \"photo\",\n",
    "              \"id\": 536235587703812097,\n",
    "              \"media_url\": \"http://pbs.twimg.com/media/B3EXbQkCMAEipwM.jpg\"\n",
    "            }\n",
    "          ]\n",
    "        },\n",
    "        \"in_reply_to_screen_name\": None,\n",
    "        \"in_reply_to_user_id\": None,\n",
    "        \"retweet_count\": 9,\n",
    "        \"id_str\": \"536610190334779392\",\n",
    "        \"favorited\": False,\n",
    "        \"user\": {\n",
    "          \"follow_request_sent\": False,\n",
    "          \"profile_use_background_image\": True,\n",
    "          \"profile_text_color\": \"333333\",\n",
    "          \"default_profile_image\": False,\n",
    "          \"id\": 844766941,\n",
    "          \"profile_background_image_url_https\": \"https://pbs.twimg.com/profile_background_images/458461302696837121/rGlGdWsc.png\",\n",
    "          \"verified\": False,\n",
    "          \"profile_location\": None,\n",
    "          \"profile_image_url_https\": \"https://pbs.twimg.com/profile_images/481243404320251905/gCr1cVP2_normal.png\",\n",
    "          \"profile_sidebar_fill_color\": \"DDFFCC\",\n",
    "          \"entities\": {\n",
    "            \"url\": {\n",
    "              \"urls\": [\n",
    "                {\n",
    "                  \"url\": \"http://t.co/9fTPk5A4wh\",\n",
    "                  \"indices\": [\n",
    "                    0,\n",
    "                    22\n",
    "                  ],\n",
    "                  \"expanded_url\": \"http://notablefacts.com/\",\n",
    "                  \"display_url\": \"notablefacts.com\"\n",
    "                }\n",
    "              ]\n",
    "            },\n",
    "            \"description\": {\n",
    "              \"urls\": []\n",
    "            }\n",
    "          },\n",
    "          \"followers_count\": 73817,\n",
    "          \"profile_sidebar_border_color\": \"FFFFFF\",\n",
    "          \"id_str\": \"844766941\",\n",
    "          \"profile_background_color\": \"9AE4E8\",\n",
    "          \"listed_count\": 485,\n",
    "          \"is_translation_enabled\": False,\n",
    "          \"utc_offset\": -21600,\n",
    "          \"statuses_count\": 38841,\n",
    "          \"description\": \"On This Day in History, Historical Pictures & other Interesting Facts....Historyfollower@gmail.com\",\n",
    "          \"friends_count\": 43594,\n",
    "          \"location\": \"\",\n",
    "          \"profile_link_color\": \"0084B4\",\n",
    "          \"profile_image_url\": \"http://pbs.twimg.com/profile_images/481243404320251905/gCr1cVP2_normal.png\",\n",
    "          \"following\": False,\n",
    "          \"geo_enabled\": False,\n",
    "          \"profile_banner_url\": \"https://pbs.twimg.com/profile_banners/844766941/1411076349\",\n",
    "          \"profile_background_image_url\": \"http://pbs.twimg.com/profile_background_images/458461302696837121/rGlGdWsc.png\",\n",
    "          \"name\": \"OnThisDay & Facts\",\n",
    "          \"lang\": \"en\",\n",
    "          \"profile_background_tile\": True,\n",
    "          \"favourites_count\": 1383,\n",
    "          \"screen_name\": \"NotableHistory\",\n",
    "          \"notifications\": False,\n",
    "          \"url\": \"http://t.co/9fTPk5A4wh\",\n",
    "          \"created_at\": \"Tue Sep 25 03:08:59 +0000 2012\",\n",
    "          \"contributors_enabled\": False,\n",
    "          \"time_zone\": \"Central Time (US & Canada)\",\n",
    "          \"protected\": False,\n",
    "          \"default_profile\": False,\n",
    "          \"is_translator\": False\n",
    "        },\n",
    "        \"geo\": None,\n",
    "        \"in_reply_to_user_id_str\": None,\n",
    "        \"possibly_sensitive\": False,\n",
    "        \"lang\": \"en\",\n",
    "        \"created_at\": \"Sun Nov 23 20:00:13 +0000 2014\",\n",
    "        \"in_reply_to_status_id_str\": None,\n",
    "        \"place\": None,\n",
    "        \"metadata\": {\n",
    "          \"iso_language_code\": \"en\",\n",
    "          \"result_type\": \"recent\"\n",
    "        }\n",
    "      },\n",
    "      \"user\": {\n",
    "        \"follow_request_sent\": False,\n",
    "        \"profile_use_background_image\": True,\n",
    "        \"profile_text_color\": \"333333\",\n",
    "        \"default_profile_image\": False,\n",
    "        \"id\": 818185729,\n",
    "        \"profile_background_image_url_https\": \"https://abs.twimg.com/images/themes/theme1/bg.png\",\n",
    "        \"verified\": False,\n",
    "        \"profile_location\": None,\n",
    "        \"profile_image_url_https\": \"https://pbs.twimg.com/profile_images/486215801498640384/rz9o7LnF_normal.jpeg\",\n",
    "        \"profile_sidebar_fill_color\": \"DDEEF6\",\n",
    "        \"entities\": {\n",
    "          \"description\": {\n",
    "            \"urls\": []\n",
    "          }\n",
    "        },\n",
    "        \"followers_count\": 302,\n",
    "        \"profile_sidebar_border_color\": \"C0DEED\",\n",
    "        \"id_str\": \"818185729\",\n",
    "        \"profile_background_color\": \"C0DEED\",\n",
    "        \"listed_count\": 0,\n",
    "        \"is_translation_enabled\": False,\n",
    "        \"utc_offset\": None,\n",
    "        \"statuses_count\": 395,\n",
    "        \"description\": \"Formerly with California Dept of General Services, now freelancing around the Sacramento area...\",\n",
    "        \"friends_count\": 1521,\n",
    "        \"location\": \"Citrus Heights, CA\",\n",
    "        \"profile_link_color\": \"0084B4\",\n",
    "        \"profile_image_url\": \"http://pbs.twimg.com/profile_images/486215801498640384/rz9o7LnF_normal.jpeg\",\n",
    "        \"following\": False,\n",
    "        \"geo_enabled\": True,\n",
    "        \"profile_banner_url\": \"https://pbs.twimg.com/profile_banners/818185729/1383764759\",\n",
    "        \"profile_background_image_url\": \"http://abs.twimg.com/images/themes/theme1/bg.png\",\n",
    "        \"name\": \"M Duncan\",\n",
    "        \"lang\": \"en\",\n",
    "        \"profile_background_tile\": False,\n",
    "        \"favourites_count\": 6544,\n",
    "        \"screen_name\": \"MDuncan95814\",\n",
    "        \"notifications\": False,\n",
    "        \"url\": None,\n",
    "        \"created_at\": \"Tue Sep 11 21:02:09 +0000 2012\",\n",
    "        \"contributors_enabled\": False,\n",
    "        \"time_zone\": None,\n",
    "        \"protected\": False,\n",
    "        \"default_profile\": True,\n",
    "        \"is_translator\": False\n",
    "      },\n",
    "      \"geo\": None,\n",
    "      \"in_reply_to_user_id_str\": None,\n",
    "      \"possibly_sensitive\": False,\n",
    "      \"lang\": \"en\",\n",
    "      \"created_at\": \"Sun Nov 23 20:53:48 +0000 2014\",\n",
    "      \"in_reply_to_status_id_str\": None,\n",
    "      \"place\": None,\n",
    "      \"metadata\": {\n",
    "        \"iso_language_code\": \"en\",\n",
    "        \"result_type\": \"recent\"\n",
    "      }\n",
    "    }\n",
    "  ]\n",
    "}\n"
   ]
  },
  {
   "cell_type": "code",
   "execution_count": 22,
   "metadata": {},
   "outputs": [
    {
     "data": {
      "text/plain": [
       "dict_keys(['search_metadata', 'statuses'])"
      ]
     },
     "execution_count": 22,
     "metadata": {},
     "output_type": "execute_result"
    }
   ],
   "source": [
    "res.keys()"
   ]
  },
  {
   "cell_type": "markdown",
   "metadata": {},
   "source": [
    "# Understand\n",
    "At any level of the extraction process, the first task is to make sure you understand the current object you have extracted. There are few options here.\n",
    "\n",
    "Print the entire object. If it’s small enough, you may be able to make sense of the printout directly. If it’s a little bit larger, you may find it helpful to “pretty-print” it, with indentation showing the level of nesting of the data. We don’t have a way to pretty-print in our online browser-based environment, but if you’re running code with a full Python interpreter, you can use the dumps function in the json module. For example:"
   ]
  },
  {
   "cell_type": "code",
   "execution_count": 38,
   "metadata": {},
   "outputs": [
    {
     "name": "stdout",
     "output_type": "stream",
     "text": [
      "{\n",
      "  \"search_metadata\": {\n",
      "    \"count\": 3,\n",
      "    \"completed_in\": 0.015,\n",
      "    \"max_id_str\": \"5366245192855\n",
      "-----------\n",
      "<class 'dict'>\n",
      "dict_keys(['search_metadata', 'statuses'])\n"
     ]
    }
   ],
   "source": [
    "import json\n",
    "print(json.dumps(res, indent=2)[:100])\n",
    "print(\"-----------\")\n",
    "print(type(res))\n",
    "print(res.keys())\n"
   ]
  },
  {
   "cell_type": "code",
   "execution_count": 39,
   "metadata": {},
   "outputs": [
    {
     "name": "stdout",
     "output_type": "stream",
     "text": [
      "----Level 2-----\n",
      "<class 'list'>\n",
      "3\n"
     ]
    }
   ],
   "source": [
    "res2 = res['statuses']\n",
    "print(\"----Level 2-----\")\n",
    "print(type(res2)) # it's a list!\n",
    "print(len(res2))"
   ]
  },
  {
   "cell_type": "code",
   "execution_count": 40,
   "metadata": {},
   "outputs": [
    {
     "name": "stdout",
     "output_type": "stream",
     "text": [
      "----Level 3: a tweet----\n",
      "{\n",
      "  \"contributors\": null,\n",
      "  \"t\n"
     ]
    }
   ],
   "source": [
    "for res3 in res2[:1]:\n",
    "    print(\"----Level 3: a tweet----\")\n",
    "    print(json.dumps(res3, indent=2)[:30])\n"
   ]
  },
  {
   "cell_type": "code",
   "execution_count": 43,
   "metadata": {},
   "outputs": [
    {
     "name": "stdout",
     "output_type": "stream",
     "text": [
      "----Level 3: a tweet----\n",
      "{\n",
      "  \"contributors\": null,\n",
      "  \"t\n",
      "<class 'dict'>\n",
      "dict_keys(['contributors', 'truncated', 'text', 'in_reply_to_status_id', 'id', 'favorite_count', 'source', 'retweeted', 'coordinates', 'entities', 'in_reply_to_screen_name', 'in_reply_to_user_id', 'retweet_count', 'id_str', 'favorited', 'retweeted_status', 'user', 'geo', 'in_reply_to_user_id_str', 'lang', 'created_at', 'in_reply_to_status_id_str', 'place', 'metadata'])\n"
     ]
    }
   ],
   "source": [
    "for res3 in res2[:1]:\n",
    "    print(\"----Level 3: a tweet----\")\n",
    "    print(json.dumps(res3, indent=2)[:30])\n",
    "    print(type(res3)) # it's a dictionary\n",
    "    print(res3.keys())"
   ]
  },
  {
   "cell_type": "code",
   "execution_count": 44,
   "metadata": {},
   "outputs": [
    {
     "name": "stdout",
     "output_type": "stream",
     "text": [
      "----Level 3: a tweet----\n",
      "{\n",
      "  \"contributors\": null,\n",
      "  \"t\n",
      "----Level 4: the user who wrote the tweet----\n",
      "<class 'dict'>\n",
      "dict_keys(['follow_request_sent', 'profile_use_background_image', 'profile_text_color', 'default_profile_image', 'id', 'profile_background_image_url_https', 'verified', 'profile_location', 'profile_image_url_https', 'profile_sidebar_fill_color', 'entities', 'followers_count', 'profile_sidebar_border_color', 'id_str', 'profile_background_color', 'listed_count', 'is_translation_enabled', 'utc_offset', 'statuses_count', 'description', 'friends_count', 'location', 'profile_link_color', 'profile_image_url', 'following', 'geo_enabled', 'profile_banner_url', 'profile_background_image_url', 'name', 'lang', 'profile_background_tile', 'favourites_count', 'screen_name', 'notifications', 'url', 'created_at', 'contributors_enabled', 'time_zone', 'protected', 'default_profile', 'is_translator'])\n"
     ]
    }
   ],
   "source": [
    "for res3 in res2[:1]:\n",
    "   print(\"----Level 3: a tweet----\")\n",
    "   print(json.dumps(res3, indent=2)[:30])\n",
    "   res4 = res3['user']\n",
    "   print(\"----Level 4: the user who wrote the tweet----\")\n",
    "   print(type(res4)) # it's a dictionary\n",
    "   print(res4.keys())"
   ]
  },
  {
   "cell_type": "code",
   "execution_count": 45,
   "metadata": {},
   "outputs": [
    {
     "name": "stdout",
     "output_type": "stream",
     "text": [
      "----Level 3: a tweet----\n",
      "----Level 4: the user who wrote the tweet----\n",
      "31brooks_ Wed Apr 09 14:34:41 +0000 2014\n"
     ]
    }
   ],
   "source": [
    "import json\n",
    "# print(type(res))\n",
    "# print(res.keys())\n",
    "res2 = res['statuses']\n",
    "# print(\"----Level 2: a list of tweets-----\")\n",
    "# print(type(res2)) # it's a list!\n",
    "# print(len(res2))  # looks like one item representing each of the three tweets\n",
    "for res3 in res2[:1]:\n",
    "   print(\"----Level 3: a tweet----\")\n",
    "   # print(json.dumps(res3, indent=2)[:30])\n",
    "   res4 = res3['user']\n",
    "   print(\"----Level 4: the user who wrote the tweet----\")\n",
    "   # print(type(res4)) # it's a dictionary\n",
    "   # print(res4.keys())\n",
    "   print(res4['screen_name'], res4['created_at'])"
   ]
  },
  {
   "cell_type": "raw",
   "metadata": {},
   "source": [
    "Now, we may want to go back have it extract for all the items rather than only the first item in res2.\n",
    "\n"
   ]
  },
  {
   "cell_type": "code",
   "execution_count": 46,
   "metadata": {},
   "outputs": [
    {
     "name": "stdout",
     "output_type": "stream",
     "text": [
      "31brooks_ Wed Apr 09 14:34:41 +0000 2014\n",
      "froyoho Thu Jan 14 21:37:54 +0000 2010\n",
      "MDuncan95814 Tue Sep 11 21:02:09 +0000 2012\n"
     ]
    }
   ],
   "source": [
    "import json\n",
    "# print(type(res))\n",
    "# print(res.keys())\n",
    "res2 = res['statuses']\n",
    "#print(\"----Level 2: a list of tweets-----\")\n",
    "#print(type(res2)) # it's a list!\n",
    "#print(len(res2))  # looks like one item representing each of the three tweets\n",
    "for res3 in res2:\n",
    "   #print(\"----Level 3: a tweet----\")\n",
    "   #print(json.dumps(res3, indent=2)[:30])\n",
    "   res4 = res3['user']\n",
    "   #print(\"----Level 4: the user who wrote the tweet----\")\n",
    "   #print(type(res4)) # it's a dictionary\n",
    "   #print(res4.keys())\n",
    "   print(res4['screen_name'], res4['created_at'])\n"
   ]
  },
  {
   "cell_type": "code",
   "execution_count": 47,
   "metadata": {},
   "outputs": [
    {
     "name": "stdout",
     "output_type": "stream",
     "text": [
      "31brooks_ Wed Apr 09 14:34:41 +0000 2014\n",
      "froyoho Thu Jan 14 21:37:54 +0000 2010\n",
      "MDuncan95814 Tue Sep 11 21:02:09 +0000 2012\n"
     ]
    }
   ],
   "source": [
    "for res3 in res['statuses']:\n",
    "    print(res3['user']['screen_name'], res3['user']['created_at'])"
   ]
  },
  {
   "cell_type": "code",
   "execution_count": 48,
   "metadata": {},
   "outputs": [
    {
     "name": "stdout",
     "output_type": "stream",
     "text": [
      "True False True\n"
     ]
    }
   ],
   "source": [
    "\n",
    "lst = [['apple', 'orange', 'banana'], [5, 6, 7, 8, 9.9, 10], ['green', 'yellow', 'purple', 'red']]\n",
    "\n",
    "#Test to see if 'yellow' is in the third list of lst. Save to variable ``yellow``\n",
    "yellow=False\n",
    "if 'yellow' in lst[2]:\n",
    "    yellow=True\n",
    "\n",
    "#Test to see if 4 is in the second list of lst. Save to variable ``four``\n",
    "four=False\n",
    "if int(4) in lst[1]:\n",
    "    four=True\n",
    "\n",
    "#Test to see if 'orange' is in the first element of lst. Save to variable ``orange``\n",
    "orange=False\n",
    "if 'orange' in lst[0]:\n",
    "    orange=True\n",
    "\n",
    "print(yellow,four,orange)"
   ]
  },
  {
   "cell_type": "code",
   "execution_count": 4,
   "metadata": {},
   "outputs": [],
   "source": [
    "\n",
    "L = [[5, 8, 7], ['hello', 'hi', 'hola'], [6.6, 1.54, 3.99], ['small', 'large']]\n",
    "\n",
    "# Test if 'hola' is in the list L. Save to variable name test1\n",
    "test1=False\n",
    "\n",
    "# Test if [5, 8, 7] is in the list L. Save to variable name test2\n",
    "ls=[5,8,7]\n",
    "test2=False\n",
    "if ls in L:\n",
    "    test2=True\n",
    "# Test if 6.6 is in the third element of list L. Save to variable name test3\n",
    "test3=False\n",
    "if 6.6 in L[2]:\n",
    "    test3=True\n",
    "\n"
   ]
  },
  {
   "cell_type": "code",
   "execution_count": 3,
   "metadata": {},
   "outputs": [
    {
     "name": "stdout",
     "output_type": "stream",
     "text": [
      "['finding', 23, ['exercises', 'hangout', 34]]\n"
     ]
    }
   ],
   "source": [
    "\n",
    "nested = {'data': ['finding', 23, ['exercises', 'hangout', 34]], 'window': ['part', 'whole', [], 'sum', ['math', 'calculus', 'algebra', 'geometry', 'statistics',['physics', 'chemistry', 'biology']]]}\n",
    "\n",
    "# Check to see if the string data is a key in nested, if it is, assign True to the variable data, otherwise assign False.\n",
    "data=False\n",
    "for key in nested.keys():\n",
    "    if 'data' in key:\n",
    "        data=True\n",
    "# Check to see if the integer 24 is in the value of the key data, if it is then assign to the variable twentyfour the value of True, otherwise False.\n",
    "twentyfour=False\n",
    "if 24 in nested['data']:\n",
    "    twentyfour=True\n",
    "print(nested['data'])\n",
    "#  in Check to see that the string 'whole' is not in the value of the key window. If it's not, then assign to the variable whole the value of True, otherwise False.\n",
    "whole=True\n",
    "for k in nested['window']:\n",
    "    if 'whole' in k:\n",
    "        whole=False\n",
    "\n",
    "# Check to see if the string 'physics' is a key in the dictionary nested. If it is, assign to the variable physics, the value of True, otherwise False.\n",
    "physics=False\n",
    "if 'physics' in nested.keys():\n",
    "    physics=True\n"
   ]
  },
  {
   "cell_type": "code",
   "execution_count": 5,
   "metadata": {},
   "outputs": [
    {
     "name": "stdout",
     "output_type": "stream",
     "text": [
      "29\n"
     ]
    }
   ],
   "source": [
    "nested_d = {'Beijing':{'China':51, 'USA':36, 'Russia':22, 'Great Britain':19}, 'London':{'USA':46, 'China':38, 'Great Britain':29, 'Russia':22}, 'Rio':{'USA':35, 'Great Britain':22, 'China':20, 'Germany':13}}\n",
    "\n",
    "london_gold=nested_d['London']['Great Britain']\n",
    "print(london_gold)"
   ]
  },
  {
   "cell_type": "code",
   "execution_count": 6,
   "metadata": {},
   "outputs": [],
   "source": [
    "\n",
    "sports = {'swimming': ['butterfly', 'breaststroke', 'backstroke', 'freestyle'], 'diving': ['springboard', 'platform', 'synchronized'], 'track': ['sprint', 'distance', 'jumps', 'throws'], 'gymnastics': {'women':['vault', 'floor', 'uneven bars', 'balance beam'], 'men': ['vault', 'parallel bars', 'floor', 'rings']}}\n",
    "\n",
    "# Assign the string 'backstroke' to the name v1\n",
    "v1=sports['swimming'][2]\n",
    "# Assign the string 'platform' to the name v2\n",
    "v2=sports['diving'][1]\n",
    "# Assign the list ['vault', 'floor', 'uneven bars', 'balance beam'] to the name v3\n",
    "v3=sports['gymnastics']['women']\n",
    "# Assign the string 'rings' to the name v4\n",
    "\n",
    "v4=sports['gymnastics']['men'][-1]"
   ]
  },
  {
   "cell_type": "code",
   "execution_count": 7,
   "metadata": {},
   "outputs": [
    {
     "name": "stdout",
     "output_type": "stream",
     "text": [
      "[36, 46, 35]\n"
     ]
    }
   ],
   "source": [
    "nested_d = {'Beijing':{'China':51, 'USA':36, 'Russia':22, 'Great Britain':19}, 'London':{'USA':46, 'China':38, 'Great Britain':29, 'Russia':22}, 'Rio':{'USA':35, 'Great Britain':22, 'China':20, 'Germany':13}}\n",
    "\n",
    "US_count = []\n",
    "for key in nested_d:\n",
    "    US_count.append(nested_d[key]['USA'])\n",
    "print(US_count)"
   ]
  },
  {
   "cell_type": "code",
   "execution_count": 8,
   "metadata": {},
   "outputs": [
    {
     "name": "stdout",
     "output_type": "stream",
     "text": [
      "['blue', 'blood orange', 'lavender', 'mac n cheese']\n"
     ]
    }
   ],
   "source": [
    "\n",
    "l_of_l = [['purple', 'mauve', 'blue'], ['red', 'maroon', 'blood orange', 'crimson'], ['sea green', 'cornflower', 'lavender', 'indigo'], ['yellow', 'amarillo', 'mac n cheese', 'golden rod']]\n",
    "\n",
    "third=[]\n",
    "for lst in l_of_l:\n",
    "    third.append(lst[2])\n",
    "print(third)"
   ]
  },
  {
   "cell_type": "code",
   "execution_count": 9,
   "metadata": {},
   "outputs": [
    {
     "name": "stdout",
     "output_type": "stream",
     "text": [
      "['Lochte', 'Bolt', 'Eaton', 'Dalton']\n",
      "['Phelps', 'Schooling', 'Ledecky', 'Franklin', 'Felix', 'Gardner', 'Biles', 'Douglas', 'Hamm', 'Raisman', 'Mikulak']\n"
     ]
    }
   ],
   "source": [
    "\n",
    "athletes = [['Phelps', 'Lochte', 'Schooling', 'Ledecky', 'Franklin'], ['Felix', 'Bolt', 'Gardner', 'Eaton'], ['Biles', 'Douglas', 'Hamm', 'Raisman', 'Mikulak', 'Dalton']]\n",
    "t=[]\n",
    "other=[]\n",
    "for lst in athletes:\n",
    "    for word in lst:\n",
    "        if 't' in word:\n",
    "            t.append(word)\n",
    "        else:\n",
    "            other.append(word)\n",
    "            \n",
    "print(t)\n",
    "print(other)"
   ]
  },
  {
   "cell_type": "code",
   "execution_count": null,
   "metadata": {},
   "outputs": [],
   "source": []
  }
 ],
 "metadata": {
  "kernelspec": {
   "display_name": "Python 3",
   "language": "python",
   "name": "python3"
  },
  "language_info": {
   "codemirror_mode": {
    "name": "ipython",
    "version": 3
   },
   "file_extension": ".py",
   "mimetype": "text/x-python",
   "name": "python",
   "nbconvert_exporter": "python",
   "pygments_lexer": "ipython3",
   "version": "3.7.7"
  }
 },
 "nbformat": 4,
 "nbformat_minor": 4
}
